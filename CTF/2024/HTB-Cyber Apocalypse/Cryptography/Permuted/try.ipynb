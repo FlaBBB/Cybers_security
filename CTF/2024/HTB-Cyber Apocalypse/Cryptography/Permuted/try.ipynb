{
 "cells": [
  {
   "cell_type": "code",
   "execution_count": 64,
   "id": "8726ecac",
   "metadata": {},
   "outputs": [],
   "source": [
    "with open(\"./challenge/output.txt\", \"r\") as f:\n",
    "    g = f.readline().split(\"=\")[-1].strip()\n",
    "    f.readline()\n",
    "    A = f.readline().split(\"=\")[-1].strip()\n",
    "    f.readline()\n",
    "    B = f.readline().split(\"=\")[-1].strip()\n",
    "    f.readline()\n",
    "    c = f.readline().split(\"=\")[-1].strip()\n",
    "    g = eval(g)\n",
    "    A = eval(A)\n",
    "    B = eval(B)\n",
    "    c = eval(c)"
   ]
  },
  {
   "cell_type": "code",
   "execution_count": 29,
   "id": "a3df1332",
   "metadata": {},
   "outputs": [],
   "source": [
    "from sage.arith.functions import LCM_list\n",
    "def convert_to_permutation(l):\n",
    "    return Permutation(vector(l) + vector([1] * len(l)))\n",
    "\n",
    "def permutation_pow(p, n):\n",
    "    res = Permutation(vector(range(p.size())) + vector([1] * p.size()))\n",
    "    while n != 0:\n",
    "       res *= p\n",
    "       n -= 1\n",
    "    return res\n",
    "\n",
    "def max_cycle_permutation(p:Permutation):\n",
    "    cycles = p.cycle_tuples()\n",
    "    num_cycles = list(map(lambda x: len(x), cycles))\n",
    "    return LCM_list(num_cycles)\n",
    "\n",
    "def permutation_pow_fast(g: Permutation, n):\n",
    "    g_cycle: List[Tuple[int]] = g.cycle_tuples()\n",
    "    ans = [0] * g.size()\n",
    "    for cycle in g_cycle:\n",
    "        p = n % len(cycle)\n",
    "        for i in range(len(cycle)):\n",
    "            ans[cycle[(i + p) % len(cycle)] - 1] = g[cycle[i] - 1]\n",
    "    return Permutation(ans)"
   ]
  },
  {
   "cell_type": "code",
   "execution_count": 69,
   "id": "07ac5038",
   "metadata": {
    "scrolled": true
   },
   "outputs": [
    {
     "ename": "KeyboardInterrupt",
     "evalue": "",
     "output_type": "error",
     "traceback": [
      "\u001b[0;31m---------------------------------------------------------------------------\u001b[0m",
      "\u001b[0;31mKeyboardInterrupt\u001b[0m                         Traceback (most recent call last)",
      "Cell \u001b[0;32mIn [69], line 1\u001b[0m\n\u001b[0;32m----> 1\u001b[0m m \u001b[38;5;241m=\u001b[39m Matrix(\u001b[43m[\u001b[49m\u001b[43m[\u001b[49m\u001b[43mInteger\u001b[49m\u001b[43m(\u001b[49m\u001b[38;5;241;43m0\u001b[39;49m\u001b[43m)\u001b[49m\u001b[43m]\u001b[49m\u001b[43m \u001b[49m\u001b[38;5;241;43m*\u001b[39;49m\u001b[43m \u001b[49m\u001b[38;5;28;43mlen\u001b[39;49m\u001b[43m(\u001b[49m\u001b[43mg\u001b[49m\u001b[43m)\u001b[49m\u001b[43m \u001b[49m\u001b[38;5;28;43;01mfor\u001b[39;49;00m\u001b[43m \u001b[49m\u001b[43m_\u001b[49m\u001b[43m \u001b[49m\u001b[38;5;129;43;01min\u001b[39;49;00m\u001b[43m \u001b[49m\u001b[38;5;28;43mrange\u001b[39;49m\u001b[43m(\u001b[49m\u001b[38;5;28;43mlen\u001b[39;49m\u001b[43m(\u001b[49m\u001b[43mg\u001b[49m\u001b[43m)\u001b[49m\u001b[43m)\u001b[49m\u001b[43m]\u001b[49m)\n\u001b[1;32m      2\u001b[0m \u001b[38;5;66;03m# g = convert_to_matrix(g)\u001b[39;00m\n\u001b[1;32m      3\u001b[0m \u001b[38;5;66;03m# A = convert_to_matrix(A)\u001b[39;00m\n\u001b[1;32m      4\u001b[0m \u001b[38;5;66;03m# B = convert_to_matrix(B)\u001b[39;00m\n",
      "Cell \u001b[0;32mIn [69], line 1\u001b[0m, in \u001b[0;36m<listcomp>\u001b[0;34m(.0)\u001b[0m\n\u001b[0;32m----> 1\u001b[0m m \u001b[38;5;241m=\u001b[39m Matrix([[Integer(\u001b[38;5;241m0\u001b[39m)] \u001b[38;5;241m*\u001b[39m \u001b[38;5;28mlen\u001b[39m(g) \u001b[38;5;28;01mfor\u001b[39;00m _ \u001b[38;5;129;01min\u001b[39;00m \u001b[38;5;28mrange\u001b[39m(\u001b[38;5;28mlen\u001b[39m(g))])\n\u001b[1;32m      2\u001b[0m \u001b[38;5;66;03m# g = convert_to_matrix(g)\u001b[39;00m\n\u001b[1;32m      3\u001b[0m \u001b[38;5;66;03m# A = convert_to_matrix(A)\u001b[39;00m\n\u001b[1;32m      4\u001b[0m \u001b[38;5;66;03m# B = convert_to_matrix(B)\u001b[39;00m\n",
      "File \u001b[0;32msrc/cysignals/signals.pyx:341\u001b[0m, in \u001b[0;36mcysignals.signals.python_check_interrupt\u001b[0;34m()\u001b[0m\n",
      "\u001b[0;31mKeyboardInterrupt\u001b[0m: "
     ]
    }
   ],
   "source": [
    "g = convert_to_matrix(g)\n",
    "A = convert_to_matrix(A)\n",
    "B = convert_to_matrix(B)"
   ]
  },
  {
   "cell_type": "code",
   "execution_count": 2,
   "id": "0a7aec3f",
   "metadata": {},
   "outputs": [
    {
     "data": {
      "text/plain": [
       "3"
      ]
     },
     "execution_count": 2,
     "metadata": {},
     "output_type": "execute_result"
    }
   ],
   "source": [
    "g = [2, 4, 1, 0, 3]\n",
    "mg = Matrix(len(g), len(g))\n",
    "for i, _g in enumerate(g):\n",
    "    mg[i, _g] = 1\n",
    "\n",
    "rg = mg*mg*mg\n",
    "discrete_log(rg, mg)"
   ]
  },
  {
   "cell_type": "code",
   "execution_count": 32,
   "id": "8132dd04",
   "metadata": {},
   "outputs": [
    {
     "data": {
      "text/html": [
       "<html>\\(\\displaystyle 36\\)</html>"
      ],
      "text/latex": [
       "$\\displaystyle 36$"
      ],
      "text/plain": [
       "36"
      ]
     },
     "metadata": {},
     "output_type": "display_data"
    },
    {
     "name": "stdout",
     "output_type": "stream",
     "text": [
      "[1, 2, 3, 4, 5, 6, 7, 8, 9, 10, 11, 12, 13, 14, 15]\n",
      "[12, 10, 14, 1, 15, 2, 9, 6, 5, 8, 11, 7, 13, 4, 3]\n",
      "(7, 8, 4, 12, 3, 10, 5, 2, 15, 6, 11, 9, 13, 1, 14)\n",
      "[9, 6, 1, 7, 14, 8, 15, 10, 3, 2, 11, 5, 13, 12, 4]\n",
      "[4, 6, 15, 14, 9, 8, 12, 10, 7, 2, 11, 1, 13, 3, 5]\n",
      "[(1, 12, 7, 9, 5, 15, 3, 14, 4), (2, 10, 8, 6), (11,), (13,)]\n"
     ]
    }
   ],
   "source": [
    "from random import shuffle\n",
    "n = 15\n",
    "g = list(range(n))\n",
    "shuffle(g)\n",
    "g = convert_to_permutation(g)\n",
    "r = convert_to_permutation(list(range(n))) * g * g\n",
    "ans = 1\n",
    "while r != g:\n",
    "    r *= g\n",
    "    ans += 1\n",
    "show(ans)\n",
    "cycle = g.cycle_tuples()\n",
    "print(list(range(1, n + 1)))\n",
    "print(r)\n",
    "r *=g\n",
    "print(tuple(r))\n",
    "print(r*g)\n",
    "print(permutation_pow_fast(g,2))\n",
    "print(cycle)"
   ]
  },
  {
   "cell_type": "code",
   "execution_count": 19,
   "id": "b3eae90d",
   "metadata": {},
   "outputs": [
    {
     "name": "stdout",
     "output_type": "stream",
     "text": [
      "[1, 3, 5, 0, 2, 4, 8, 6, 7]\n",
      "[3, 0, 4, 1, 5, 2, 7, 8, 6]\n"
     ]
    }
   ],
   "source": [
    "from math import ceil, sqrt\n",
    "from typing import Dict\n",
    "\n",
    "\n",
    "class Permutation:\n",
    "    def __init__(self, mapping):\n",
    "        self.length = len(mapping)\n",
    "\n",
    "        assert set(mapping) == set(\n",
    "            range(self.length)\n",
    "        )  # ensure it contains all numbers from 0 to length-1, with no repetitions\n",
    "        self.mapping = list(mapping)\n",
    "\n",
    "    def __hash__(self) -> int:\n",
    "        return hash(tuple(self.mapping))\n",
    "\n",
    "    def __call__(self, *args, **kwargs):\n",
    "        idx, *_ = args\n",
    "        assert idx in range(self.length)\n",
    "        return self.mapping[idx]\n",
    "\n",
    "    def __mul__(self, other):\n",
    "        ans = []\n",
    "\n",
    "        for i in range(self.length):\n",
    "            ans.append(self(other(i)))\n",
    "\n",
    "        return Permutation(ans)\n",
    "\n",
    "    def inverse(self):\n",
    "        ans = [None] * self.length\n",
    "\n",
    "        for i in range(self.length):\n",
    "            ans[self(i)] = i\n",
    "\n",
    "        return Permutation(ans)\n",
    "\n",
    "    def __pow__(self, power, modulo=None):\n",
    "        ans = Permutation.identity(self.length)\n",
    "        ctr = self\n",
    "\n",
    "        while power > 0:\n",
    "            if power % 2 == 1:\n",
    "                ans *= ctr\n",
    "            ctr *= ctr\n",
    "            power //= 2\n",
    "\n",
    "        return ans\n",
    "\n",
    "    def __str__(self):\n",
    "        return str(self.mapping)\n",
    "\n",
    "    def __repr__(self) -> str:\n",
    "        return self.__str__()\n",
    "\n",
    "    def __eq__(self, __value: object) -> bool:\n",
    "        assert isinstance(__value, Permutation)\n",
    "        for x, y in zip(self.mapping, __value.mapping):\n",
    "            if x != y:\n",
    "                return False\n",
    "        return True\n",
    "\n",
    "    def copy(self):\n",
    "        return Permutation(self.mapping.copy())\n",
    "\n",
    "    def log(self, g: \"Permutation\"):  # Not Accurate\n",
    "        n = ceil(sqrt(self.length))\n",
    "\n",
    "        mul = g**n\n",
    "\n",
    "        value: Dict[Permutation, int] = dict()\n",
    "        cur = Permutation.identity(self.length)\n",
    "        for i in range(n):\n",
    "            if not value.get(cur):\n",
    "                value[cur] = i\n",
    "            cur *= mul\n",
    "\n",
    "        cur = self.copy()\n",
    "        for i in range(self.length):\n",
    "            if value.get(cur):\n",
    "                return n * value.get(cur) - i\n",
    "            if cur == g:\n",
    "                return self.length - i\n",
    "            cur *= g\n",
    "\n",
    "        return None\n",
    "\n",
    "    @staticmethod\n",
    "    def identity(length):\n",
    "        return Permutation(range(length))\n",
    "\n",
    "p = Permutation([1, 3, 5, 0, 2, 4,8,6,7])\n",
    "print(p)\n",
    "print(p.inverse())"
   ]
  },
  {
   "cell_type": "code",
   "execution_count": null,
   "id": "bbde0252",
   "metadata": {},
   "outputs": [],
   "source": []
  }
 ],
 "metadata": {
  "kernelspec": {
   "display_name": "SageMath 10.2",
   "language": "sage",
   "name": "sagemath"
  },
  "language_info": {
   "codemirror_mode": {
    "name": "ipython",
    "version": 3
   },
   "file_extension": ".py",
   "mimetype": "text/x-python",
   "name": "python",
   "nbconvert_exporter": "python",
   "pygments_lexer": "ipython3",
   "version": "3.11.7"
  }
 },
 "nbformat": 4,
 "nbformat_minor": 5
}
