{
 "cells": [
  {
   "cell_type": "code",
   "execution_count": 1,
   "id": "8674a8dc",
   "metadata": {},
   "outputs": [],
   "source": [
    "n = 10\n",
    "N1 = 20\n",
    "N2 = 20\n",
    "L1 = 8\n",
    "L2 = 11\n",
    "L = 15\n",
    "\n",
    "\n",
    "def patched_mul(self, other):\n",
    "    ret = type(self)(self.parent(), self._data + other._data)\n",
    "    # ret._normalize()\n",
    "    return ret\n",
    "\n",
    "\n",
    "def patched_invert(self):\n",
    "    ret = type(self)(self.parent(), reversed(self._data))\n",
    "    # ret._normalize()\n",
    "    return ret\n",
    "\n",
    "\n",
    "groups.misc.Cactus.Element._mul_ = patched_mul\n",
    "groups.misc.Cactus.Element.__invert__ = patched_invert\n",
    "Jn = groups.misc.Cactus(n)\n",
    "\n",
    "s = Jn.group_generators()"
   ]
  },
  {
   "cell_type": "code",
   "execution_count": 3,
   "id": "db53d4f1",
   "metadata": {},
   "outputs": [],
   "source": [
    "def gen_elem(L1, L2):\n",
    "    elem = Jn.one()\n",
    "    for _ in range(randint(L1, L2)):\n",
    "        p = randint(1, n - 1)\n",
    "        q = randint(p + 1, n)\n",
    "        elem *= s[p, q]\n",
    "    return elem"
   ]
  },
  {
   "cell_type": "code",
   "execution_count": 6,
   "id": "4a0f5a1e",
   "metadata": {},
   "outputs": [],
   "source": [
    "a = [gen_elem(L1, L2) for _ in range(N1)]\n",
    "b = [gen_elem(L1, L2) for _ in range(N2)]"
   ]
  },
  {
   "cell_type": "code",
   "execution_count": 9,
   "id": "32eec028",
   "metadata": {},
   "outputs": [],
   "source": [
    "sa = [randint(0, N1 - 1) for _ in range(L)]\n",
    "A = prod(a[i] for i in sa)\n",
    "\n",
    "sb = [randint(0, N2 - 1) for _ in range(L)]\n",
    "B = prod(b[i] for i in sb)"
   ]
  },
  {
   "cell_type": "code",
   "execution_count": 14,
   "id": "bfe6c14a",
   "metadata": {
    "scrolled": true
   },
   "outputs": [
    {
     "data": {
      "text/html": [
       "<html>\\(\\displaystyle \\left[1, 7, 11, 16, 3, 1, 1, 14, 14, 15, 3, 15, 0, 12, 17\\right]\\)</html>"
      ],
      "text/latex": [
       "$\\displaystyle \\left[1, 7, 11, 16, 3, 1, 1, 14, 14, 15, 3, 15, 0, 12, 17\\right]$"
      ],
      "text/plain": [
       "[1, 7, 11, 16, 3, 1, 1, 14, 14, 15, 3, 15, 0, 12, 17]"
      ]
     },
     "metadata": {},
     "output_type": "display_data"
    },
    {
     "data": {
      "text/plain": [
       "[s[2,10]*s[6,8]*s[4,9]*s[3,5]*s[5,6]*s[9,10]*s[6,10]*s[5,10]*s[1,3]*s[5,6],\n",
       " s[4,7]*s[1,4]*s[4,5]*s[4,10]*s[6,10]*s[9,10]*s[2,6]*s[7,9],\n",
       " s[2,4]*s[3,4]*s[8,9]*s[9,10]*s[4,8]*s[4,6]*s[5,10]*s[3,7],\n",
       " s[4,5]*s[1,9]*s[4,5]*s[7,9]*s[7,8]*s[7,10]*s[6,7]*s[7,9]*s[2,9]*s[3,9]*s[8,9],\n",
       " s[9,10]*s[4,10]*s[9,10]*s[2,9]*s[2,9]*s[4,8]*s[9,10]*s[2,5],\n",
       " s[5,9]*s[4,8]*s[4,9]*s[2,6]*s[8,10]*s[2,6]*s[9,10]*s[7,9]*s[7,9],\n",
       " s[4,5]*s[3,5]*s[6,10]*s[4,7]*s[2,6]*s[1,10]*s[9,10]*s[6,9],\n",
       " s[1,5]*s[9,10]*s[4,5]*s[9,10]*s[8,9]*s[1,7]*s[4,7]*s[5,8]*s[4,7],\n",
       " s[5,9]*s[9,10]*s[6,8]*s[7,9]*s[8,10]*s[9,10]*s[1,4]*s[3,9]*s[5,6],\n",
       " s[1,8]*s[1,10]*s[4,6]*s[6,7]*s[3,4]*s[9,10]*s[8,9]*s[6,9],\n",
       " s[9,10]*s[7,9]*s[1,8]*s[6,7]*s[4,7]*s[1,5]*s[4,7]*s[2,8],\n",
       " s[4,8]*s[1,10]*s[3,9]*s[4,9]*s[2,5]*s[3,9]*s[1,4]*s[3,4]*s[8,10],\n",
       " s[3,10]*s[3,6]*s[8,9]*s[5,7]*s[6,7]*s[4,5]*s[7,8]*s[5,6]*s[7,8]*s[6,8],\n",
       " s[6,8]*s[4,7]*s[7,10]*s[3,9]*s[4,10]*s[3,6]*s[7,10]*s[2,7]*s[8,9]*s[5,7]*s[2,8],\n",
       " s[6,10]*s[5,9]*s[4,8]*s[9,10]*s[5,8]*s[4,10]*s[8,9]*s[8,9]*s[3,8]*s[6,9],\n",
       " s[4,10]*s[8,10]*s[7,8]*s[9,10]*s[6,9]*s[4,10]*s[6,8]*s[4,9]*s[5,8]*s[7,10]*s[8,10],\n",
       " s[2,10]*s[7,9]*s[5,8]*s[8,10]*s[6,9]*s[9,10]*s[7,9]*s[4,7]*s[6,10]*s[8,9],\n",
       " s[7,8]*s[5,9]*s[3,10]*s[2,7]*s[1,8]*s[1,5]*s[5,10]*s[4,9]*s[5,6]*s[4,5]*s[7,9],\n",
       " s[5,7]*s[3,10]*s[2,10]*s[7,10]*s[6,8]*s[6,10]*s[1,10]*s[2,9]*s[8,9],\n",
       " s[4,6]*s[5,6]*s[9,10]*s[6,9]*s[4,10]*s[9,10]*s[5,7]*s[4,7]]"
      ]
     },
     "execution_count": 14,
     "metadata": {},
     "output_type": "execute_result"
    }
   ],
   "source": [
    "show(sa)\n",
    "a"
   ]
  }
 ],
 "metadata": {
  "kernelspec": {
   "display_name": "SageMath 10.2",
   "language": "sage",
   "name": "sagemath"
  },
  "language_info": {
   "codemirror_mode": {
    "name": "ipython",
    "version": 3
   },
   "file_extension": ".py",
   "mimetype": "text/x-python",
   "name": "python",
   "nbconvert_exporter": "python",
   "pygments_lexer": "ipython3",
   "version": "3.11.8"
  }
 },
 "nbformat": 4,
 "nbformat_minor": 5
}
