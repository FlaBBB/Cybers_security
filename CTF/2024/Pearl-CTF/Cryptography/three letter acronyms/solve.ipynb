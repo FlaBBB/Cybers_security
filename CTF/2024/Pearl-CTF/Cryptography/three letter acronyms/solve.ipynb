{
 "cells": [
  {
   "cell_type": "code",
   "execution_count": 3,
   "id": "b5ceacf3",
   "metadata": {},
   "outputs": [],
   "source": [
    "from sage.all import *\n",
    "config = [(100, 85, 16), (100, 21, 80), (100, 19, 82), (100, 25, 76)]\n",
    "\n",
    "p, N, v, t = 23**2, 100, 4, 41"
   ]
  },
  {
   "cell_type": "code",
   "execution_count": 4,
   "id": "a8640326",
   "metadata": {},
   "outputs": [],
   "source": [
    "F = GF(p)\n",
    "M = MatrixSpace(F, v, v)"
   ]
  },
  {
   "cell_type": "code",
   "execution_count": 11,
   "id": "80c41488",
   "metadata": {},
   "outputs": [
    {
     "data": {
      "text/plain": [
       "[ 18*z2 + 1  18*z2 + 5  6*z2 + 20  7*z2 + 12]\n",
       "[  9*z2 + 3  9*z2 + 14  14*z2 + 2 15*z2 + 11]\n",
       "[  9*z2 + 8 17*z2 + 22 16*z2 + 17         14]\n",
       "[  7*z2 + 6  3*z2 + 18  18*z2 + 1  4*z2 + 15]"
      ]
     },
     "execution_count": 11,
     "metadata": {},
     "output_type": "execute_result"
    }
   ],
   "source": [
    "M.random_element()"
   ]
  }
 ],
 "metadata": {
  "kernelspec": {
   "display_name": "Python 3 (ipykernel)",
   "language": "python",
   "name": "python3"
  },
  "language_info": {
   "codemirror_mode": {
    "name": "ipython",
    "version": 3
   },
   "file_extension": ".py",
   "mimetype": "text/x-python",
   "name": "python",
   "nbconvert_exporter": "python",
   "pygments_lexer": "ipython3",
   "version": "3.11.7"
  }
 },
 "nbformat": 4,
 "nbformat_minor": 5
}
