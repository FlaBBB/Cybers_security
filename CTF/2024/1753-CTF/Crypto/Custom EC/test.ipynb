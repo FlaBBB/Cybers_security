{
 "cells": [
  {
   "cell_type": "code",
   "execution_count": 1,
   "id": "048ce66e",
   "metadata": {},
   "outputs": [],
   "source": [
    "from sage.all import EllipticCurve\n",
    "from sage.all import Qp\n",
    "from sage.all import ZZ\n",
    "\n",
    "\n",
    "# Lifts a point to the p-adic numbers.\n",
    "def _lift(E, P, gf):\n",
    "    x, y = map(ZZ, P.xy())\n",
    "    for point_ in E.lift_x(x, all=True):\n",
    "        _, y_ = map(gf, point_.xy())\n",
    "        if y == y_:\n",
    "            return point_\n",
    "\n",
    "\n",
    "def attack(G, P):\n",
    "    \"\"\"\n",
    "    Solves the discrete logarithm problem using Smart's attack.\n",
    "    More information: Smart N. P., \"The discrete logarithm problem on elliptic curves of trace one\"\n",
    "    :param G: the base point\n",
    "    :param P: the point multiplication result\n",
    "    :return: l such that l * G == P\n",
    "    \"\"\"\n",
    "    E = G.curve()\n",
    "    gf = E.base_ring()\n",
    "    p = gf.order()\n",
    "    assert E.trace_of_frobenius() == 1, f\"Curve should have trace of Frobenius = 1.\"\n",
    "\n",
    "    E = EllipticCurve(Qp(p), [int(a) + p * ZZ.random_element(1, p) for a in E.a_invariants()])\n",
    "    G = p * _lift(E, G, gf)\n",
    "    P = p * _lift(E, P, gf)\n",
    "    Gx, Gy = G.xy()\n",
    "    Px, Py = P.xy()\n",
    "    return int(gf((Px / Py) / (Gx / Gy)))"
   ]
  },
  {
   "cell_type": "code",
   "execution_count": 15,
   "id": "fbbea502",
   "metadata": {},
   "outputs": [
    {
     "data": {
      "text/plain": [
       "<class 'tuple'>"
      ]
     },
     "execution_count": 15,
     "metadata": {},
     "output_type": "execute_result"
    }
   ],
   "source": [
    "p = 0xa15c4fb663a578d8b2496d3151a946119ee42695e18e13e90600192b1d0abdbb6f787f90c8d102ff88e284dd4526f5f6b6c980bf88f1d0490714b67e8a2a2b77 \n",
    "a = 0x5E009506FCC7EFF573BC960D88638FE25E76A9B6C7CAEEA072A27DCD1FA46ABB15B7B6210CF90CABA982893EE2779669BAC06E267013486B22FF3E24ABAE2D42 \n",
    "b = 0x2CE7D1CA4493B0977F088F6D30D9241F8048FDEA112CC385B793BCE953998CAAE680864A7D3AA437EA3FFD1441CA3FB352B0B710BB3F053E980E503BE9A7FECE \n",
    "E = EllipticCurve(GF(p), [a, b])\n",
    "G = E.random_point()\n",
    "# Generate the elliptic curve\n",
    "type(G.xy())"
   ]
  }
 ],
 "metadata": {
  "kernelspec": {
   "display_name": "SageMath 10.2",
   "language": "sage",
   "name": "sagemath"
  },
  "language_info": {
   "codemirror_mode": {
    "name": "ipython",
    "version": 3
   },
   "file_extension": ".py",
   "mimetype": "text/x-python",
   "name": "python",
   "nbconvert_exporter": "python",
   "pygments_lexer": "ipython3",
   "version": "3.11.8"
  }
 },
 "nbformat": 4,
 "nbformat_minor": 5
}
