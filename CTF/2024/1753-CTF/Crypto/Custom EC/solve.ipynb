{
 "cells": [
  {
   "cell_type": "code",
   "execution_count": 1,
   "id": "78d68dc3",
   "metadata": {},
   "outputs": [],
   "source": [
    "p = random_prime(2**257-1, lbound=2**256)"
   ]
  },
  {
   "cell_type": "code",
   "execution_count": 2,
   "id": "8794e082",
   "metadata": {},
   "outputs": [],
   "source": [
    "F = Zmod(p)\n",
    "a = 1\n",
    "b = 1"
   ]
  },
  {
   "cell_type": "code",
   "execution_count": 3,
   "id": "31c6c2b8",
   "metadata": {},
   "outputs": [],
   "source": [
    "E = EllipticCurve(F, [a, b])"
   ]
  },
  {
   "cell_type": "code",
   "execution_count": 14,
   "id": "63eb5b90",
   "metadata": {},
   "outputs": [
    {
     "data": {
      "text/plain": [
       "(77796514342046018112088910810976373026415336621668108902657972521778663826891 : 118644340776813160965309874056426230702413369476255830897543459363125338577021 : 1)"
      ]
     },
     "execution_count": 14,
     "metadata": {},
     "output_type": "execute_result"
    }
   ],
   "source": [
    "g = E.random_point(); g"
   ]
  },
  {
   "cell_type": "code",
   "execution_count": 11,
   "id": "883d63f4",
   "metadata": {},
   "outputs": [],
   "source": [
    "Q = g*1251212418534"
   ]
  },
  {
   "cell_type": "code",
   "execution_count": 12,
   "id": "9d6c2ed9",
   "metadata": {},
   "outputs": [
    {
     "ename": "KeyboardInterrupt",
     "evalue": "",
     "output_type": "error",
     "traceback": [
      "\u001b[0;31m---------------------------------------------------------------------------\u001b[0m",
      "\u001b[0;31mKeyError\u001b[0m                                  Traceback (most recent call last)",
      "File \u001b[0;32m~/sage/sage-10.2/src/sage/structure/category_object.pyx:847\u001b[0m, in \u001b[0;36msage.structure.category_object.CategoryObject.getattr_from_category\u001b[0;34m()\u001b[0m\n\u001b[1;32m    846\u001b[0m try:\n\u001b[0;32m--> 847\u001b[0m     return self._cached_methods[name]\n\u001b[1;32m    848\u001b[0m except KeyError:\n",
      "\u001b[0;31mKeyError\u001b[0m: 'point_homset'",
      "\nDuring handling of the above exception, another exception occurred:\n",
      "\u001b[0;31mAttributeError\u001b[0m                            Traceback (most recent call last)",
      "File \u001b[0;32m~/sage/sage-10.2/src/sage/schemes/projective/projective_subscheme.py:122\u001b[0m, in \u001b[0;36mAlgebraicScheme_subscheme_projective.point\u001b[0;34m(self, v, check)\u001b[0m\n\u001b[1;32m    121\u001b[0m \u001b[38;5;28;01mtry\u001b[39;00m:\n\u001b[0;32m--> 122\u001b[0m     \u001b[38;5;28;01mreturn\u001b[39;00m \u001b[38;5;28;43mself\u001b[39;49m\u001b[38;5;241;43m.\u001b[39;49m\u001b[43m_point\u001b[49m\u001b[43m(\u001b[49m\u001b[38;5;28;43mself\u001b[39;49m\u001b[38;5;241;43m.\u001b[39;49m\u001b[43mpoint_homset\u001b[49m\u001b[43m(\u001b[49m\u001b[43m)\u001b[49m\u001b[43m,\u001b[49m\u001b[43m \u001b[49m\u001b[43mv\u001b[49m\u001b[43m,\u001b[49m\u001b[43m \u001b[49m\u001b[43mcheck\u001b[49m\u001b[38;5;241;43m=\u001b[39;49m\u001b[43mcheck\u001b[49m\u001b[43m)\u001b[49m\n\u001b[1;32m    123\u001b[0m \u001b[38;5;28;01mexcept\u001b[39;00m \u001b[38;5;167;01mAttributeError\u001b[39;00m:  \u001b[38;5;66;03m# legacy code without point_homset\u001b[39;00m\n",
      "File \u001b[0;32m~/sage/sage-10.2/src/sage/schemes/elliptic_curves/ell_point.py:270\u001b[0m, in \u001b[0;36mEllipticCurvePoint_field.__init__\u001b[0;34m(self, curve, v, check)\u001b[0m\n\u001b[1;32m    249\u001b[0m \u001b[38;5;124;03m\"\"\"\u001b[39;00m\n\u001b[1;32m    250\u001b[0m \u001b[38;5;124;03mConstructor for a point on an elliptic curve.\u001b[39;00m\n\u001b[1;32m    251\u001b[0m \n\u001b[0;32m   (...)\u001b[0m\n\u001b[1;32m    268\u001b[0m \u001b[38;5;124;03m    (1 : -2 : 1)\u001b[39;00m\n\u001b[1;32m    269\u001b[0m \u001b[38;5;124;03m\"\"\"\u001b[39;00m\n\u001b[0;32m--> 270\u001b[0m point_homset \u001b[38;5;241m=\u001b[39m \u001b[43mcurve\u001b[49m\u001b[38;5;241;43m.\u001b[39;49m\u001b[43mpoint_homset\u001b[49m()\n\u001b[1;32m    271\u001b[0m R \u001b[38;5;241m=\u001b[39m point_homset\u001b[38;5;241m.\u001b[39mvalue_ring()\n",
      "File \u001b[0;32m~/sage/sage-10.2/src/sage/structure/category_object.pyx:841\u001b[0m, in \u001b[0;36msage.structure.category_object.CategoryObject.__getattr__\u001b[0;34m()\u001b[0m\n\u001b[1;32m    840\u001b[0m \"\"\"\n\u001b[0;32m--> 841\u001b[0m return self.getattr_from_category(name)\n\u001b[1;32m    842\u001b[0m \n",
      "File \u001b[0;32m~/sage/sage-10.2/src/sage/structure/category_object.pyx:856\u001b[0m, in \u001b[0;36msage.structure.category_object.CategoryObject.getattr_from_category\u001b[0;34m()\u001b[0m\n\u001b[1;32m    855\u001b[0m \n\u001b[0;32m--> 856\u001b[0m             attr = getattr_from_other_class(self, cls, name)\n\u001b[1;32m    857\u001b[0m             self._cached_methods[name] = attr\n",
      "File \u001b[0;32m~/sage/sage-10.2/src/sage/cpython/getattr.pyx:357\u001b[0m, in \u001b[0;36msage.cpython.getattr.getattr_from_other_class\u001b[0;34m()\u001b[0m\n\u001b[1;32m    356\u001b[0m     dummy_error_message.name = name\n\u001b[0;32m--> 357\u001b[0m     raise AttributeError(dummy_error_message)\n\u001b[1;32m    358\u001b[0m cdef PyObject* attr = instance_getattr(cls, name)\n",
      "\u001b[0;31mAttributeError\u001b[0m: 'SchemeHomset_points_abelian_variety_field_with_category' object has no attribute 'point_homset'",
      "\nDuring handling of the above exception, another exception occurred:\n",
      "\u001b[0;31mKeyboardInterrupt\u001b[0m                         Traceback (most recent call last)",
      "Cell \u001b[0;32mIn [12], line 1\u001b[0m\n\u001b[0;32m----> 1\u001b[0m \u001b[43mdiscrete_log\u001b[49m\u001b[43m(\u001b[49m\u001b[43mQ\u001b[49m\u001b[43m,\u001b[49m\u001b[43m \u001b[49m\u001b[43mg\u001b[49m\u001b[43m,\u001b[49m\u001b[43m \u001b[49m\u001b[43mg\u001b[49m\u001b[38;5;241;43m.\u001b[39;49m\u001b[43morder\u001b[49m\u001b[43m(\u001b[49m\u001b[43m)\u001b[49m\u001b[43m,\u001b[49m\u001b[43m \u001b[49m\u001b[43moperation\u001b[49m\u001b[38;5;241;43m=\u001b[39;49m\u001b[38;5;124;43m'\u001b[39;49m\u001b[38;5;124;43m+\u001b[39;49m\u001b[38;5;124;43m'\u001b[39;49m\u001b[43m)\u001b[49m\n",
      "File \u001b[0;32m~/sage/sage-10.2/src/sage/groups/generic.py:945\u001b[0m, in \u001b[0;36mdiscrete_log\u001b[0;34m(a, base, ord, bounds, operation, identity, inverse, op, algorithm)\u001b[0m\n\u001b[1;32m    943\u001b[0m h \u001b[38;5;241m=\u001b[39m power(mult(a, power(base, \u001b[38;5;241m-\u001b[39ml[i])), \u001b[38;5;28mord\u001b[39m \u001b[38;5;241m/\u001b[39m\u001b[38;5;241m/\u001b[39m pi\u001b[38;5;241m*\u001b[39m\u001b[38;5;241m*\u001b[39m(j \u001b[38;5;241m+\u001b[39m \u001b[38;5;241m1\u001b[39m))\n\u001b[1;32m    944\u001b[0m \u001b[38;5;28;01mif\u001b[39;00m algorithm \u001b[38;5;241m==\u001b[39m \u001b[38;5;124m'\u001b[39m\u001b[38;5;124mbsgs\u001b[39m\u001b[38;5;124m'\u001b[39m:\n\u001b[0;32m--> 945\u001b[0m     c \u001b[38;5;241m=\u001b[39m \u001b[43mbsgs\u001b[49m\u001b[43m(\u001b[49m\u001b[43mgamma\u001b[49m\u001b[43m,\u001b[49m\u001b[43m \u001b[49m\u001b[43mh\u001b[49m\u001b[43m,\u001b[49m\u001b[43m \u001b[49m\u001b[43m(\u001b[49m\u001b[38;5;241;43m0\u001b[39;49m\u001b[43m,\u001b[49m\u001b[43m \u001b[49m\u001b[43mtemp_bound\u001b[49m\u001b[43m)\u001b[49m\u001b[43m,\u001b[49m\u001b[43m \u001b[49m\u001b[43minverse\u001b[49m\u001b[38;5;241;43m=\u001b[39;49m\u001b[43minverse\u001b[49m\u001b[43m,\u001b[49m\u001b[43m \u001b[49m\u001b[43midentity\u001b[49m\u001b[38;5;241;43m=\u001b[39;49m\u001b[43midentity\u001b[49m\u001b[43m,\u001b[49m\u001b[43m \u001b[49m\u001b[43mop\u001b[49m\u001b[38;5;241;43m=\u001b[39;49m\u001b[43mop\u001b[49m\u001b[43m,\u001b[49m\u001b[43m \u001b[49m\u001b[43moperation\u001b[49m\u001b[38;5;241;43m=\u001b[39;49m\u001b[43moperation\u001b[49m\u001b[43m)\u001b[49m\n\u001b[1;32m    946\u001b[0m \u001b[38;5;28;01melif\u001b[39;00m algorithm \u001b[38;5;241m==\u001b[39m \u001b[38;5;124m'\u001b[39m\u001b[38;5;124mrho\u001b[39m\u001b[38;5;124m'\u001b[39m:\n\u001b[1;32m    947\u001b[0m     c \u001b[38;5;241m=\u001b[39m discrete_log_rho(h, gamma, \u001b[38;5;28mord\u001b[39m\u001b[38;5;241m=\u001b[39mpi, inverse\u001b[38;5;241m=\u001b[39minverse, identity\u001b[38;5;241m=\u001b[39midentity, op\u001b[38;5;241m=\u001b[39mop, operation\u001b[38;5;241m=\u001b[39moperation)\n",
      "File \u001b[0;32m~/sage/sage-10.2/src/sage/groups/generic.py:497\u001b[0m, in \u001b[0;36mbsgs\u001b[0;34m(a, b, bounds, operation, identity, inverse, op)\u001b[0m\n\u001b[1;32m    495\u001b[0m         \u001b[38;5;28;01mreturn\u001b[39;00m Z(i)\n\u001b[1;32m    496\u001b[0m     table[d] \u001b[38;5;241m=\u001b[39m i\n\u001b[0;32m--> 497\u001b[0m     d \u001b[38;5;241m=\u001b[39m op(d, a)\n\u001b[1;32m    499\u001b[0m c \u001b[38;5;241m=\u001b[39m op(c, inverse(d))     \u001b[38;5;66;03m# this is now a**(-m)\u001b[39;00m\n\u001b[1;32m    500\u001b[0m d \u001b[38;5;241m=\u001b[39m identity\n",
      "File \u001b[0;32m~/sage/sage-10.2/src/sage/structure/element.pyx:1227\u001b[0m, in \u001b[0;36msage.structure.element.Element.__add__\u001b[0;34m()\u001b[0m\n\u001b[1;32m   1225\u001b[0m cdef int cl = classify_elements(left, right)\n\u001b[1;32m   1226\u001b[0m if HAVE_SAME_PARENT(cl):\n\u001b[0;32m-> 1227\u001b[0m     return (<Element>left)._add_(right)\n\u001b[1;32m   1228\u001b[0m # Left and right are Sage elements => use coercion model\n\u001b[1;32m   1229\u001b[0m if BOTH_ARE_ELEMENT(cl):\n",
      "File \u001b[0;32m~/sage/sage-10.2/src/sage/structure/element.pyx:2379\u001b[0m, in \u001b[0;36msage.structure.element.ModuleElement._add_\u001b[0;34m()\u001b[0m\n\u001b[1;32m   2377\u001b[0m Generic element of a module.\n\u001b[1;32m   2378\u001b[0m \"\"\"\n\u001b[0;32m-> 2379\u001b[0m cpdef _add_(self, other) noexcept:\n\u001b[1;32m   2380\u001b[0m     \"\"\"\n\u001b[1;32m   2381\u001b[0m     Abstract addition method\n",
      "File \u001b[0;32m~/sage/sage-10.2/src/sage/schemes/elliptic_curves/ell_point.py:712\u001b[0m, in \u001b[0;36mEllipticCurvePoint_field._add_\u001b[0;34m(self, right)\u001b[0m\n\u001b[1;32m    710\u001b[0m y3 \u001b[38;5;241m=\u001b[39m \u001b[38;5;241m-\u001b[39my1 \u001b[38;5;241m-\u001b[39m a3 \u001b[38;5;241m-\u001b[39m a1\u001b[38;5;241m*\u001b[39mx3 \u001b[38;5;241m+\u001b[39m m\u001b[38;5;241m*\u001b[39m(x1\u001b[38;5;241m-\u001b[39mx3)\n\u001b[1;32m    711\u001b[0m \u001b[38;5;66;03m# See trac #4820 for why we need to coerce 1 into the base ring here:\u001b[39;00m\n\u001b[0;32m--> 712\u001b[0m \u001b[38;5;28;01mreturn\u001b[39;00m \u001b[43mE\u001b[49m\u001b[38;5;241;43m.\u001b[39;49m\u001b[43mpoint\u001b[49m\u001b[43m(\u001b[49m\u001b[43m[\u001b[49m\u001b[43mx3\u001b[49m\u001b[43m,\u001b[49m\u001b[43m \u001b[49m\u001b[43my3\u001b[49m\u001b[43m,\u001b[49m\u001b[43m \u001b[49m\u001b[43mE\u001b[49m\u001b[38;5;241;43m.\u001b[39;49m\u001b[43mbase_ring\u001b[49m\u001b[43m(\u001b[49m\u001b[43m)\u001b[49m\u001b[43m(\u001b[49m\u001b[38;5;241;43m1\u001b[39;49m\u001b[43m)\u001b[49m\u001b[43m]\u001b[49m\u001b[43m,\u001b[49m\u001b[43m \u001b[49m\u001b[43mcheck\u001b[49m\u001b[38;5;241;43m=\u001b[39;49m\u001b[38;5;28;43;01mFalse\u001b[39;49;00m\u001b[43m)\u001b[49m\n",
      "File \u001b[0;32m~/sage/sage-10.2/src/sage/schemes/projective/projective_subscheme.py:124\u001b[0m, in \u001b[0;36mAlgebraicScheme_subscheme_projective.point\u001b[0;34m(self, v, check)\u001b[0m\n\u001b[1;32m    122\u001b[0m         \u001b[38;5;28;01mreturn\u001b[39;00m \u001b[38;5;28mself\u001b[39m\u001b[38;5;241m.\u001b[39m_point(\u001b[38;5;28mself\u001b[39m\u001b[38;5;241m.\u001b[39mpoint_homset(), v, check\u001b[38;5;241m=\u001b[39mcheck)\n\u001b[1;32m    123\u001b[0m     \u001b[38;5;28;01mexcept\u001b[39;00m \u001b[38;5;167;01mAttributeError\u001b[39;00m:  \u001b[38;5;66;03m# legacy code without point_homset\u001b[39;00m\n\u001b[0;32m--> 124\u001b[0m         \u001b[38;5;28;01mreturn\u001b[39;00m \u001b[38;5;28;43mself\u001b[39;49m\u001b[38;5;241;43m.\u001b[39;49m\u001b[43m_point\u001b[49m\u001b[43m(\u001b[49m\u001b[38;5;28;43mself\u001b[39;49m\u001b[43m,\u001b[49m\u001b[43m \u001b[49m\u001b[43mv\u001b[49m\u001b[43m,\u001b[49m\u001b[43m \u001b[49m\u001b[43mcheck\u001b[49m\u001b[38;5;241;43m=\u001b[39;49m\u001b[43mcheck\u001b[49m\u001b[43m)\u001b[49m\n\u001b[1;32m    126\u001b[0m \u001b[38;5;28;01mreturn\u001b[39;00m \u001b[38;5;28mself\u001b[39m\u001b[38;5;241m.\u001b[39mpoint_homset()(v, check\u001b[38;5;241m=\u001b[39mcheck)\n",
      "File \u001b[0;32m~/sage/sage-10.2/src/sage/schemes/elliptic_curves/ell_point.py:271\u001b[0m, in \u001b[0;36mEllipticCurvePoint_field.__init__\u001b[0;34m(self, curve, v, check)\u001b[0m\n\u001b[1;32m    249\u001b[0m \u001b[38;5;124;03m\"\"\"\u001b[39;00m\n\u001b[1;32m    250\u001b[0m \u001b[38;5;124;03mConstructor for a point on an elliptic curve.\u001b[39;00m\n\u001b[1;32m    251\u001b[0m \n\u001b[0;32m   (...)\u001b[0m\n\u001b[1;32m    268\u001b[0m \u001b[38;5;124;03m    (1 : -2 : 1)\u001b[39;00m\n\u001b[1;32m    269\u001b[0m \u001b[38;5;124;03m\"\"\"\u001b[39;00m\n\u001b[1;32m    270\u001b[0m point_homset \u001b[38;5;241m=\u001b[39m curve\u001b[38;5;241m.\u001b[39mpoint_homset()\n\u001b[0;32m--> 271\u001b[0m R \u001b[38;5;241m=\u001b[39m \u001b[43mpoint_homset\u001b[49m\u001b[38;5;241;43m.\u001b[39;49m\u001b[43mvalue_ring\u001b[49m\u001b[43m(\u001b[49m\u001b[43m)\u001b[49m\n\u001b[1;32m    272\u001b[0m \u001b[38;5;28;01mif\u001b[39;00m is_SchemeMorphism(v) \u001b[38;5;129;01mor\u001b[39;00m \u001b[38;5;28misinstance\u001b[39m(v, EllipticCurvePoint_field):\n\u001b[1;32m    273\u001b[0m     v \u001b[38;5;241m=\u001b[39m \u001b[38;5;28mlist\u001b[39m(v)\n",
      "File \u001b[0;32m~/sage/sage-10.2/src/sage/schemes/generic/homset.py:712\u001b[0m, in \u001b[0;36mSchemeHomset_points.value_ring\u001b[0;34m(self)\u001b[0m\n\u001b[1;32m    697\u001b[0m     \u001b[38;5;124;03m\"\"\"\u001b[39;00m\n\u001b[1;32m    698\u001b[0m \u001b[38;5;124;03m    Return a string representation of ``self``.\u001b[39;00m\n\u001b[1;32m    699\u001b[0m \n\u001b[0;32m   (...)\u001b[0m\n\u001b[1;32m    708\u001b[0m \u001b[38;5;124;03m        'Set of rational points of Projective Space of dimension 2 over Rational Field'\u001b[39;00m\n\u001b[1;32m    709\u001b[0m \u001b[38;5;124;03m    \"\"\"\u001b[39;00m\n\u001b[1;32m    710\u001b[0m     \u001b[38;5;28;01mreturn\u001b[39;00m \u001b[38;5;124m'\u001b[39m\u001b[38;5;124mSet of rational points of \u001b[39m\u001b[38;5;124m'\u001b[39m\u001b[38;5;241m+\u001b[39m\u001b[38;5;28mstr\u001b[39m(\u001b[38;5;28mself\u001b[39m\u001b[38;5;241m.\u001b[39mextended_codomain())\n\u001b[0;32m--> 712\u001b[0m \u001b[38;5;28;01mdef\u001b[39;00m \u001b[38;5;21mvalue_ring\u001b[39m(\u001b[38;5;28mself\u001b[39m):\n\u001b[1;32m    713\u001b[0m     \u001b[38;5;124;03m\"\"\"\u001b[39;00m\n\u001b[1;32m    714\u001b[0m \u001b[38;5;124;03m    Return `R` for a point Hom-set `X(Spec(R))`.\u001b[39;00m\n\u001b[1;32m    715\u001b[0m \n\u001b[0;32m   (...)\u001b[0m\n\u001b[1;32m    724\u001b[0m \u001b[38;5;124;03m        Rational Field\u001b[39;00m\n\u001b[1;32m    725\u001b[0m \u001b[38;5;124;03m    \"\"\"\u001b[39;00m\n\u001b[1;32m    726\u001b[0m     dom \u001b[38;5;241m=\u001b[39m \u001b[38;5;28mself\u001b[39m\u001b[38;5;241m.\u001b[39mdomain()\n",
      "File \u001b[0;32msrc/cysignals/signals.pyx:341\u001b[0m, in \u001b[0;36mcysignals.signals.python_check_interrupt\u001b[0;34m()\u001b[0m\n",
      "\u001b[0;31mKeyboardInterrupt\u001b[0m: "
     ]
    }
   ],
   "source": [
    "discrete_log(Q, g, g.order(), operation='+')"
   ]
  }
 ],
 "metadata": {
  "kernelspec": {
   "display_name": "SageMath 10.2",
   "language": "sage",
   "name": "sagemath"
  },
  "language_info": {
   "codemirror_mode": {
    "name": "ipython",
    "version": 3
   },
   "file_extension": ".py",
   "mimetype": "text/x-python",
   "name": "python",
   "nbconvert_exporter": "python",
   "pygments_lexer": "ipython3",
   "version": "3.11.8"
  }
 },
 "nbformat": 4,
 "nbformat_minor": 5
}
