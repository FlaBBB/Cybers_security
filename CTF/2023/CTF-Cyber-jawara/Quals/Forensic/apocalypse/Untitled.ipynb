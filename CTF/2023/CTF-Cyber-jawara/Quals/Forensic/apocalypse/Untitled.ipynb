{
 "cells": [
  {
   "cell_type": "code",
   "execution_count": 46,
   "id": "46ef7c64",
   "metadata": {},
   "outputs": [
    {
     "name": "stdout",
     "output_type": "stream",
     "text": [
      "Collecting pycryptodome\n",
      "  Downloading pycryptodome-3.19.0-cp35-abi3-manylinux_2_17_x86_64.manylinux2014_x86_64.whl (2.1 MB)\n",
      "\u001b[2K     \u001b[90m━━━━━━━━━━━━━━━━━━━━━━━━━━━━━━━━━━━━━━━\u001b[0m \u001b[32m2.1/2.1 MB\u001b[0m \u001b[31m1,000.0 kB/s\u001b[0m eta \u001b[36m0:00:00\u001b[0m01\u001b[0m00:01\u001b[0m0m\n",
      "\u001b[?25hInstalling collected packages: pycryptodome\n",
      "Successfully installed pycryptodome-3.19.0\n",
      "\u001b[33mWARNING: Running pip as the 'root' user can result in broken permissions and conflicting behaviour with the system package manager. It is recommended to use a virtual environment instead: https://pip.pypa.io/warnings/venv\u001b[0m\u001b[33m\n",
      "\u001b[0m"
     ]
    }
   ],
   "source": [
    "%config IPCompleter.greedy=True\n",
    "!pip install pycryptodome"
   ]
  },
  {
   "cell_type": "code",
   "execution_count": 52,
   "id": "e11f654f",
   "metadata": {},
   "outputs": [
    {
     "data": {
      "text/html": [
       "<html><script type=\"math/tex; mode=display\">\\newcommand{\\Bold}[1]{\\mathbf{#1}}-3204459579270</script></html>"
      ],
      "text/latex": [
       "$$\\newcommand{\\Bold}[1]{\\mathbf{#1}}-3204459579270$$"
      ],
      "text/plain": [
       "-3204459579270"
      ]
     },
     "metadata": {},
     "output_type": "display_data"
    },
    {
     "name": "stdout",
     "output_type": "stream",
     "text": [
      "False\n"
     ]
    }
   ],
   "source": [
    "list_char_flag = \"4YV2uI0dyTWU6x8wF3DEXM_s-oqZkORmaHgvA{pCGJel1ncQzNSKbP?9j75ih}rBfLt\"\n",
    "\n",
    "def find(char, lis):\n",
    "    for i, l in enumerate(lis):\n",
    "        if l == char:\n",
    "            return i\n",
    "    return -1\n",
    "\n",
    "def io(char, s):\n",
    "    fi_ret = find(char, list(s))\n",
    "    return fi_ret\n",
    "\n",
    "def get_list_index(s):\n",
    "    res = list(map(lambda c: io(c, list_char_flag), list(s)))\n",
    "    # print(\"res:\",res)\n",
    "    return res\n",
    "key = \"3RgJFzNJq6Pxxc7L1LjDtTtPA2q?vhw1JUF_}oBBxi3hid_vpSxpMyrKdS{J9qbia7S\"\n",
    "_b = get_list_index(key)\n",
    "b = Matrix([_b[i:i+8] for i in range(0,8^2,8)])\n",
    "show(b.det())\n",
    "print(b.is_invertible())"
   ]
  },
  {
   "cell_type": "code",
   "execution_count": 60,
   "id": "33c9d7bf",
   "metadata": {},
   "outputs": [
    {
     "data": {
      "text/html": [
       "<html><script type=\"math/tex; mode=display\">\\newcommand{\\Bold}[1]{\\mathbf{#1}}\\left(\\begin{array}{rrrrrrrr}\n",
       "9 & 10 & 11 & 12 & 13 & 14 & 15 & 16\n",
       "\\end{array}\\right)</script></html>"
      ],
      "text/latex": [
       "$$\\newcommand{\\Bold}[1]{\\mathbf{#1}}\\left(\\begin{array}{rrrrrrrr}\n",
       "9 & 10 & 11 & 12 & 13 & 14 & 15 & 16\n",
       "\\end{array}\\right)$$"
      ],
      "text/plain": [
       "[ 9 10 11 12 13 14 15 16]"
      ]
     },
     "metadata": {},
     "output_type": "display_data"
    },
    {
     "data": {
      "text/html": [
       "<html><script type=\"math/tex; mode=display\">\\newcommand{\\Bold}[1]{\\mathbf{#1}}\\left(\\begin{array}{rrrrrrrr}\n",
       "17 & 30 & 34 & 41 & 16 & 48 & 49 & 41 \\\\\n",
       "26 & 12 & 53 & 13 & 13 & 46 & 57 & 65 \\\\\n",
       "44 & 65 & 56 & 18 & 66 & 9 & 66 & 53 \\\\\n",
       "36 & 3 & 26 & 54 & 35 & 60 & 15 & 44 \\\\\n",
       "41 & 11 & 16 & 22 & 61 & 25 & 63 & 63 \\\\\n",
       "13 & 59 & 17 & 60 & 59 & 7 & 22 & 35 \\\\\n",
       "38 & 50 & 13 & 38 & 21 & 8 & 62 & 51 \\\\\n",
       "7 & 50 & 37 & 41 & 55 & 26 & 52 & 59\n",
       "\\end{array}\\right)</script></html>"
      ],
      "text/latex": [
       "$$\\newcommand{\\Bold}[1]{\\mathbf{#1}}\\left(\\begin{array}{rrrrrrrr}\n",
       "17 & 30 & 34 & 41 & 16 & 48 & 49 & 41 \\\\\n",
       "26 & 12 & 53 & 13 & 13 & 46 & 57 & 65 \\\\\n",
       "44 & 65 & 56 & 18 & 66 & 9 & 66 & 53 \\\\\n",
       "36 & 3 & 26 & 54 & 35 & 60 & 15 & 44 \\\\\n",
       "41 & 11 & 16 & 22 & 61 & 25 & 63 & 63 \\\\\n",
       "13 & 59 & 17 & 60 & 59 & 7 & 22 & 35 \\\\\n",
       "38 & 50 & 13 & 38 & 21 & 8 & 62 & 51 \\\\\n",
       "7 & 50 & 37 & 41 & 55 & 26 & 52 & 59\n",
       "\\end{array}\\right)$$"
      ],
      "text/plain": [
       "[17 30 34 41 16 48 49 41]\n",
       "[26 12 53 13 13 46 57 65]\n",
       "[44 65 56 18 66  9 66 53]\n",
       "[36  3 26 54 35 60 15 44]\n",
       "[41 11 16 22 61 25 63 63]\n",
       "[13 59 17 60 59  7 22 35]\n",
       "[38 50 13 38 21  8 62 51]\n",
       "[ 7 50 37 41 55 26 52 59]"
      ]
     },
     "metadata": {},
     "output_type": "display_data"
    },
    {
     "data": {
      "text/html": [
       "<html><script type=\"math/tex; mode=display\">\\newcommand{\\Bold}[1]{\\mathbf{#1}}\\left(\\begin{array}{rrrrrrrr}\n",
       "46 & 42 & 49 & 12 & 13 & 57 & 49 & 56\n",
       "\\end{array}\\right)</script></html>"
      ],
      "text/latex": [
       "$$\\newcommand{\\Bold}[1]{\\mathbf{#1}}\\left(\\begin{array}{rrrrrrrr}\n",
       "46 & 42 & 49 & 12 & 13 & 57 & 49 & 56\n",
       "\\end{array}\\right)$$"
      ],
      "text/plain": [
       "[46 42 49 12 13 57 49 56]"
      ]
     },
     "metadata": {},
     "output_type": "display_data"
    },
    {
     "data": {
      "text/plain": [
       "[ 9 10 11 12 13 14 15 16]"
      ]
     },
     "execution_count": 60,
     "metadata": {},
     "output_type": "execute_result"
    }
   ],
   "source": [
    "from Crypto.Util.number import inverse\n",
    "\n",
    "n = 2\n",
    "a = Matrix(list(range((n-1) * 8 + 1, 8*n+1)))\n",
    "show(a)\n",
    "show(b)\n",
    "c = a * b % 67\n",
    "show(c)\n",
    "b.solve_left(c) % 67"
   ]
  }
 ],
 "metadata": {
  "kernelspec": {
   "display_name": "SageMath 9.5",
   "language": "sage",
   "name": "sagemath"
  },
  "language_info": {
   "codemirror_mode": {
    "name": "ipython",
    "version": 3
   },
   "file_extension": ".py",
   "mimetype": "text/x-python",
   "name": "python",
   "nbconvert_exporter": "python",
   "pygments_lexer": "ipython3",
   "version": "3.10.12"
  }
 },
 "nbformat": 4,
 "nbformat_minor": 5
}
